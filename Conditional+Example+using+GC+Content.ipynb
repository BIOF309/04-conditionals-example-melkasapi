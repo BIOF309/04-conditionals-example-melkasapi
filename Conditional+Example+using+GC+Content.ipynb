{
 "cells": [
  {
   "cell_type": "markdown",
   "metadata": {},
   "source": [
    "## Conditional Example using GC Content"
   ]
  },
  {
   "cell_type": "code",
   "execution_count": 47,
   "metadata": {},
   "outputs": [
    {
     "data": {
      "text/plain": [
       "60.0"
      ]
     },
     "execution_count": 47,
     "metadata": {},
     "output_type": "execute_result"
    }
   ],
   "source": [
    "dna_string = \"GCACGACTCTGCAGAAGGAACAAAGCACCCTCCCCACTGGGCTCCTGGTTGCAGAGCTCCAAGTCCTCAC\"\n",
    "dna_list = list(dna_string)\n",
    "GC_count = dna_list.count(\"G\") + dna_list.count(\"C\")\n",
    "def GC_content(sequence):\n",
    "     GC_count = sequence.count(\"G\") + sequence.count(\"C\")\n",
    "     GC_fraction = float(GC_count) / len(sequence)\n",
    "     return 100 * GC_fraction\n",
    "GC_content(dna_list)"
   ]
  },
  {
   "cell_type": "code",
   "execution_count": 48,
   "metadata": {},
   "outputs": [
    {
     "name": "stdout",
     "output_type": "stream",
     "text": [
      "GC content is not acceptable\n"
     ]
    }
   ],
   "source": [
    "GC_content = 60 #change depending on output above\n",
    "if GC_content < 40:\n",
    "    print(\"GC content is acceptable\")\n",
    "else:\n",
    "    print(\"GC content is not acceptable\")"
   ]
  },
  {
   "cell_type": "code",
   "execution_count": 49,
   "metadata": {},
   "outputs": [
    {
     "name": "stdout",
     "output_type": "stream",
     "text": [
      "False\n"
     ]
    }
   ],
   "source": [
    "#another example defining if GC content is appropriate, when GC content is < 40% \n",
    "def GC_appropriate(sequence):\n",
    "     GC_count = sequence.count(\"G\") + sequence.count(\"C\")\n",
    "     GC_fraction = float(GC_count) / len(sequence)\n",
    "     if GC_fraction < 0.4:\n",
    "        return True\n",
    "     else:\n",
    "        return False\n",
    "print(GC_appropriate(\"GCACGACTCTGCAGAAGGAACAAAGCACCCTCCCCACTGGGCTCCTGGTTGCAGAGCTCCAAGTCCTCAC\"))\n",
    "    "
   ]
  }
 ],
 "metadata": {
  "kernelspec": {
   "display_name": "Python 3",
   "language": "python",
   "name": "python3"
  },
  "language_info": {
   "codemirror_mode": {
    "name": "ipython",
    "version": 3
   },
   "file_extension": ".py",
   "mimetype": "text/x-python",
   "name": "python",
   "nbconvert_exporter": "python",
   "pygments_lexer": "ipython3",
   "version": "3.6.1"
  }
 },
 "nbformat": 4,
 "nbformat_minor": 2
}
